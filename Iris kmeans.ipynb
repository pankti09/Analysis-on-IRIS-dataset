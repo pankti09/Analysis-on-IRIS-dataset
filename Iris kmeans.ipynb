{
 "cells": [
  {
   "cell_type": "code",
   "execution_count": 4,
   "metadata": {},
   "outputs": [
    {
     "name": "stdout",
     "output_type": "stream",
     "text": [
      "0.24\n",
      "[[ 0 50  0]\n",
      " [48  0  2]\n",
      " [14  0 36]]\n"
     ]
    }
   ],
   "source": [
    "import numpy\n",
    "from sklearn import datasets, metrics\n",
    "from sklearn.cluster import KMeans\n",
    "\n",
    "iris=datasets.load_iris(); #sklearn.datasets.base.Bunch\n",
    "\n",
    "data=iris.data   #iris.data is numpy array \n",
    "target=iris.target\n",
    "\n",
    "model=KMeans(n_clusters=3)\n",
    "\n",
    "\n",
    "model.fit(data)\n",
    "\n",
    "prediction = model.labels_\n",
    "\n",
    "#print(prediction)\n",
    "\n",
    "#prediction = numpy.choose(prediction, [0,1,2]).astype(numpy.int64)\n",
    "\n",
    "#print(prediction)\n",
    "\n",
    "print(metrics.accuracy_score(target, prediction, normalize=True))\n",
    "\n",
    "print(metrics.confusion_matrix(target, prediction))"
   ]
  },
  {
   "cell_type": "code",
   "execution_count": null,
   "metadata": {},
   "outputs": [],
   "source": []
  }
 ],
 "metadata": {
  "kernelspec": {
   "display_name": "Python 3",
   "language": "python",
   "name": "python3"
  },
  "language_info": {
   "codemirror_mode": {
    "name": "ipython",
    "version": 3
   },
   "file_extension": ".py",
   "mimetype": "text/x-python",
   "name": "python",
   "nbconvert_exporter": "python",
   "pygments_lexer": "ipython3",
   "version": "3.7.4"
  }
 },
 "nbformat": 4,
 "nbformat_minor": 2
}
