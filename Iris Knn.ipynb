{
 "cells": [
  {
   "cell_type": "code",
   "execution_count": 1,
   "metadata": {},
   "outputs": [
    {
     "name": "stdout",
     "output_type": "stream",
     "text": [
      "############### Predictions #################\n",
      "[0 0 0 0 0 0 0 0 0 0 0 0 0 0 0 0 0 0 0 0 0 0 0 0 0 1 1 1 1 1 1 2 1 1 1 1 1\n",
      " 1 1 1 1 2 1 1 1 1 1 1 1 1 2 2 2 2 2 2 2 2 2 1 2 2 2 2 2 2 2 2 2 2 2 2 2 2\n",
      " 2]\n",
      "#############################################\n",
      "Accuracy = 0.96\n",
      "             precision    recall  f1-score   support\n",
      "\n",
      "          0       1.00      1.00      1.00        25\n",
      "          1       0.96      0.92      0.94        25\n",
      "          2       0.92      0.96      0.94        25\n",
      "\n",
      "avg / total       0.96      0.96      0.96        75\n",
      "\n",
      "[[25  0  0]\n",
      " [ 0 23  2]\n",
      " [ 0  1 24]]\n"
     ]
    }
   ],
   "source": [
    "import numpy\n",
    "from sklearn import neighbors, datasets, metrics\n",
    "\n",
    "iris=datasets.load_iris(); #sklearn.datasets.base.Bunch\n",
    "\n",
    "trainingset=iris.data[list(range(0,150,2)),:]   #iris.data is numpy array \n",
    "trainingsettarget=iris.target[list(range(0,150,2))]\n",
    "\n",
    "testset=iris.data[list(range(1,150,2)),:]\n",
    "testsettarget=iris.target[list(range(1,150,2))]\n",
    "\n",
    "n_neighbors=3 #variable for storing number of nearest neighbors\n",
    "\n",
    "weights='uniform' #or weights='distance'\n",
    "\n",
    "#creating instance of a classifier\n",
    "clf = neighbors.KNeighborsClassifier(n_neighbors, weights) \n",
    "\n",
    "#other argument is metric (default is 'minkowski'. There are many other possibilities including 'euclidean')\n",
    "\n",
    "#Other useful argument is p which controls power of minkowski distance. Default is 2\n",
    "\n",
    "clf.fit(trainingset, trainingsettarget)\n",
    "prediction = clf.predict(testset) #predict using the learnt classifier\n",
    "\n",
    "print(\"############### Predictions #################\")\n",
    "print(prediction)\n",
    "print(\"#############################################\")\n",
    "\n",
    "print(\"Accuracy = {0}\".format(metrics.accuracy_score(testsettarget, prediction, normalize=True)))\n",
    "\n",
    "print(metrics.classification_report(testsettarget, prediction))\n",
    "\n",
    "print(metrics.confusion_matrix(testsettarget, prediction))\n"
   ]
  },
  {
   "cell_type": "code",
   "execution_count": null,
   "metadata": {},
   "outputs": [],
   "source": []
  }
 ],
 "metadata": {
  "kernelspec": {
   "display_name": "Python 3",
   "language": "python",
   "name": "python3"
  },
  "language_info": {
   "codemirror_mode": {
    "name": "ipython",
    "version": 3
   },
   "file_extension": ".py",
   "mimetype": "text/x-python",
   "name": "python",
   "nbconvert_exporter": "python",
   "pygments_lexer": "ipython3",
   "version": "3.7.4"
  }
 },
 "nbformat": 4,
 "nbformat_minor": 2
}
